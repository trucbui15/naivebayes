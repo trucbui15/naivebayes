{
 "cells": [
  {
   "cell_type": "code",
   "execution_count": 11,
   "id": "995a9e61",
   "metadata": {},
   "outputs": [
    {
     "name": "stdout",
     "output_type": "stream",
     "text": [
      "Train accuracy:  0.7615262321144675\n",
      "Test accuracy:  0.762962962962963\n",
      "              precision    recall  f1-score   support\n",
      "\n",
      "           0      0.706     0.810     0.754       284\n",
      "           1      0.822     0.722     0.769       345\n",
      "\n",
      "    accuracy                          0.762       629\n",
      "   macro avg      0.764     0.766     0.761       629\n",
      "weighted avg      0.769     0.762     0.762       629\n",
      "\n"
     ]
    }
   ],
   "source": [
    "#KHAI BÁO THƯ VIỆN\n",
    "import csv\n",
    "import pandas as pd\n",
    "import numpy as np\n",
    "from sklearn.model_selection import train_test_split\n",
    "from sklearn import metrics\n",
    "\n",
    "# Đọc dữ liệu từ tệp CSV\n",
    "data = pd.read_csv('train3.csv')\n",
    "\n",
    "# Tách dữ liệu thành các đặc trưng (X) và nhãn (Y)\n",
    "X = data.iloc[:, :-1]  # Lấy tất cả các cột trừ cột cuối cùng\n",
    "Y = data.iloc[:, -1]   # Lấy cột cuối cùng\n",
    "\n",
    "# Chuyển đổi X và Y thành kiểu numpy array\n",
    "X = np.array(X).astype(float)\n",
    "Y = np.array(Y).astype(float)\n",
    "\n",
    "# Huấn luyện mô hình\n",
    "def train_model(classifier, X, Y):\n",
    "    X_train, X_test, Y_train, Y_test = train_test_split(X, Y, test_size=0.3, random_state=40)\n",
    "    classifier.fit(X_train, Y_train)\n",
    "    train_predictions = classifier.predict(X_train)\n",
    "    test_predictions = classifier.predict(X_test)\n",
    "\n",
    "    print('Train accuracy: ', metrics.accuracy_score(train_predictions, Y_train))\n",
    "    print(\"Test accuracy: \", metrics.accuracy_score(test_predictions, Y_test))\n",
    "\n",
    "    print(classification_report(Y_train, train_predictions, target_names=['0', '1'], digits=3))\n",
    "\n",
    "# Huấn luyện mô hình Naive Bayes\n",
    "trained_model = GaussianNB()\n",
    "train_model(trained_model, X, Y)\n",
    "# Lưu mô hình vào tệp\n",
    "joblib.dump(trained_model, 'model.joblib')\n",
    "\n",
    "# Load mô hình\n",
    "loaded_model = joblib.load('model.joblib')\n"
   ]
  },
  {
   "cell_type": "code",
   "execution_count": 12,
   "id": "ab8809c3",
   "metadata": {},
   "outputs": [],
   "source": [
    "# Lưu mô hình vào tệp\n",
    "joblib.dump(trained_model, 'model.joblib')\n",
    "\n",
    "# Load mô hình\n",
    "loaded_model = joblib.load('model.joblib')"
   ]
  },
  {
   "cell_type": "markdown",
   "id": "410cb31c",
   "metadata": {},
   "source": [
    "- Lưu mô hình.\n",
    "- Đưa lên web để chẩn đoán."
   ]
  },
  {
   "cell_type": "code",
   "execution_count": 9,
   "id": "364645c9",
   "metadata": {
    "scrolled": true
   },
   "outputs": [
    {
     "name": "stdout",
     "output_type": "stream",
     "text": [
      "Defaulting to user installation because normal site-packages is not writeableNote: you may need to restart the kernel to use updated packages.\n",
      "\n",
      "Requirement already satisfied: joblib in c:\\programdata\\anaconda3\\lib\\site-packages (1.2.0)\n"
     ]
    }
   ],
   "source": [
    "pip install joblib\n"
   ]
  },
  {
   "cell_type": "code",
   "execution_count": 12,
   "id": "7df93fc7",
   "metadata": {},
   "outputs": [],
   "source": [
    "# Load mô hình từ tệp\n",
    "loaded_model = joblib.load('model.joblib')\n"
   ]
  },
  {
   "cell_type": "code",
   "execution_count": 16,
   "id": "3338c427",
   "metadata": {},
   "outputs": [
    {
     "name": "stdout",
     "output_type": "stream",
     "text": [
      "Dự đoán không có bệnh tim.\n"
     ]
    }
   ],
   "source": [
    "# Sử dụng mô hình để dự đoán\n",
    "test_data = {\n",
    "    \"age\": 60,\n",
    "    \"sex\": 1,  # Nam (1) hoặc Nữ (0)\n",
    "    \"cp\": 2,  # Loại đau ngực (thường 0, 1, 2, 3)\n",
    "    \"trestbps\": 140,\n",
    "    \"chol\": 220,\n",
    "    \"fbs\": 0,  # Có (1) hoặc Không (0) đường huyết nhanh > 120 mg/dL\n",
    "    \"restecg\": 0,  # Loại điện tâm đồ (thường 0, 1, 2)\n",
    "    \"thalach\": 160,\n",
    "    \"exang\": 1,  # Có (1) hoặc Không (0) tạo thành bởi vận động\n",
    "    \"oldpeak\": 1.5,\n",
    "    \"slope\": 1,  # Loại đặc điểm tạo thành bởi vận động (thường 0, 1, 2)\n",
    "    \"ca\": 0,  # Số mạch lớn được màu bởi fluoroscopy\n",
    "    \"thal\": 2,  # Thalassemia (thường 0, 1, 2, 3)\n",
    "    \"num\": 0  # Đây là đặc trưng dự đoán, bạn có thể đặt giá trị là bất kỳ giá trị nào trong tập dữ liệu.\n",
    "}\n",
    "\n",
    "predicted_class = loaded_model.predict([list(test_data.values())])\n",
    "\n",
    "# In kết quả dự đoán\n",
    "if predicted_class[0] == 1:\n",
    "    print(\"Dự đoán có bệnh tim.\")\n",
    "else:\n",
    "    print(\"Dự đoán không có bệnh tim.\")\n",
    "\n",
    "\n"
   ]
  },
  {
   "cell_type": "code",
   "execution_count": 19,
   "id": "a7ac9018",
   "metadata": {},
   "outputs": [
    {
     "name": "stdout",
     "output_type": "stream",
     "text": [
      "Dự đoán có bệnh tim.\n"
     ]
    }
   ],
   "source": [
    "test_data = {\n",
    "    \"age\": 32,\n",
    "    \"sex\": 0,  # Nam (1) hoặc Nữ (0)\n",
    "    \"cp\": 3,  # Loại đau ngực (thường 0, 1, 2, 3)\n",
    "    \"trestbps\": 140,\n",
    "    \"chol\": 220,\n",
    "    \"fbs\": 1,  # Có (1) hoặc Không (0) đường huyết nhanh > 120 mg/dL\n",
    "    \"restecg\": 2,  # Loại điện tâm đồ (thường 0, 1, 2)\n",
    "    \"thalach\": 290,\n",
    "    \"exang\": 1,  # Có (1) hoặc Không (0) tạo thành bởi vận động\n",
    "    \"oldpeak\": 3,\n",
    "    \"slope\": 2,  # Loại đặc điểm tạo thành bởi vận động (thường 0, 1, 2)\n",
    "    \"ca\": 3,  # Số mạch lớn được màu bởi fluoroscopy\n",
    "    \"thal\": 3,  # Thalassemia (thường 0, 1, 2, 3)\n",
    "    \"num\": 0  # Giá trị giả\n",
    "}\n",
    "predicted_class = loaded_model.predict([list(test_data.values())])\n",
    "# In kết quả dự đoán\n",
    "if predicted_class[0] == 1:\n",
    "    print(\"Dự đoán có bệnh tim.\")\n",
    "else:\n",
    "    print(\"Dự đoán không có bệnh tim.\")\n"
   ]
  },
  {
   "cell_type": "code",
   "execution_count": null,
   "id": "be41db21",
   "metadata": {},
   "outputs": [],
   "source": []
  }
 ],
 "metadata": {
  "kernelspec": {
   "display_name": "Python 3 (ipykernel)",
   "language": "python",
   "name": "python3"
  },
  "language_info": {
   "codemirror_mode": {
    "name": "ipython",
    "version": 3
   },
   "file_extension": ".py",
   "mimetype": "text/x-python",
   "name": "python",
   "nbconvert_exporter": "python",
   "pygments_lexer": "ipython3",
   "version": "3.11.4"
  }
 },
 "nbformat": 4,
 "nbformat_minor": 5
}
